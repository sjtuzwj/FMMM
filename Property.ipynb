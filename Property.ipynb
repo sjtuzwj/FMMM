{
 "cells": [
  {
   "cell_type": "code",
   "execution_count": 1,
   "metadata": {},
   "outputs": [],
   "source": [
    "# coding:utf8\n",
    "import pandas as pd\n",
    "import time\n",
    "import numpy as np\n",
    "import urllib, json"
   ]
  },
  {
   "cell_type": "code",
   "execution_count": 2,
   "metadata": {},
   "outputs": [],
   "source": [
    "import seaborn as sns"
   ]
  },
  {
   "cell_type": "code",
   "execution_count": 3,
   "metadata": {},
   "outputs": [],
   "source": [
    "class PropertySamp(object):\n",
    "    def getData(self):\n",
    "        url = 'https://htem-api.nrel.gov/api/sample/'+str(self.id)+'/mvl_opt'\n",
    "        response = urllib.request.urlopen(url)\n",
    "        data = json.loads(response.read())\n",
    "        wl0=data['library-spectra-measurement']['data'][0]['wavelength']['value']\n",
    "        rf=data['library-spectra-measurement']['data'][0]['reflectance']['value']\n",
    "        wl1=data['library-spectra-measurement']['data'][1]['wavelength']['value']\n",
    "        tr=data['library-spectra-measurement']['data'][1]['transmittance']['value']\n",
    "        df0=pd.DataFrame({'reflectance':rf},index=wl0)\n",
    "        self.rf=df0.stack().unstack(0)\n",
    "        df1=pd.DataFrame({'transmittance':tr},index=wl1)\n",
    "        self.tr=df1.stack().unstack(0)\n",
    "        url = 'https://htem-api.nrel.gov/api/sample/'+str(self.id)+'/mvl_ele'\n",
    "        #There is the potential to replace this with mvl_optical or mvl_xrd, \n",
    "            #but these seem to be broken at the moment...\n",
    "        response = urllib.request.urlopen(url)\n",
    "        data = json.loads(response.read())\n",
    "        rs=data['library-conductivity-resistivity-measurement']['data'][0]['resistivity']['value']\n",
    "        cd=data['library-conductivity-resistivity-measurement']['data'][0]['conductivity']['value']\n",
    "        sr=data['library-conductivity-resistivity-measurement']['data'][0]['sheet-resistance']['value']\n",
    "        self.ele=pd.DataFrame({'resistivity':[rs],'conductivity':[cd],'sheet-resistance':[sr]})\n",
    "        \n",
    "    def __init__(self,id):\n",
    "        self.id=id\n",
    "        self.getData()"
   ]
  },
  {
   "cell_type": "code",
   "execution_count": 5,
   "metadata": {},
   "outputs": [],
   "source": [
    "class PropertyLib(object):\n",
    "    def __init__(self,id):\n",
    "        self.id = id\n",
    "        self.sample=[]\n",
    "        self.getData()\n",
    "    def getData(self):\n",
    "        url = 'https://htem-api.nrel.gov/api/sample_library/'+str(self.id)\n",
    "        response = urllib.request.urlopen(url)\n",
    "        data = json.loads(response.read())\n",
    "        positions = data['sample_ids']\n",
    "        for p in positions:\n",
    "            self.sample.append(PropertySamp(p))\n",
    "        index=[s.id for s in self.sample]\n",
    "        self.rf=pd.concat([s.rf for s in self.sample],axis=0)\n",
    "        self.rf.index=index\n",
    "        self.tr=pd.concat([s.tr for s in self.sample],axis=0)\n",
    "        self.tr.index=index\n",
    "        self.ele=pd.concat([s.ele for s in self.sample],axis=0)\n",
    "        self.ele.index=index\n",
    "       \n",
    "        "
   ]
  },
  {
   "cell_type": "code",
   "execution_count": 6,
   "metadata": {},
   "outputs": [],
   "source": [
    "class PropertyELESamp(object):\n",
    "    def getData(self):\n",
    "        url = 'https://htem-api.nrel.gov/api/sample/'+str(self.id)+'/mvl_ele'\n",
    "        response = urllib.request.urlopen(url)\n",
    "        data = json.loads(response.read())\n",
    "        rs=data['library-conductivity-resistivity-measurement']['data'][0]['resistivity']['value']\n",
    "        cd=data['library-conductivity-resistivity-measurement']['data'][0]['conductivity']['value']\n",
    "        sr=data['library-conductivity-resistivity-measurement']['data'][0]['sheet-resistance']['value']\n",
    "        x=data['library-conductivity-resistivity-measurement']['point']['coordinates']['x']['value']\n",
    "        y=data['library-conductivity-resistivity-measurement']['point']['coordinates']['y']['value']\n",
    "        self.ele=pd.DataFrame({'resistivity':[rs],'conductivity':[cd],'sheet-resistance':[sr],'x':[x],'y':[y]})\n",
    "        \n",
    "    def __init__(self,id):\n",
    "        self.id=id\n",
    "        self.getData()"
   ]
  },
  {
   "cell_type": "code",
   "execution_count": 7,
   "metadata": {},
   "outputs": [],
   "source": [
    "class PropertyELELib(object):\n",
    "    def __init__(self,id):\n",
    "        self.id = id\n",
    "        self.sample=[]\n",
    "        self.getData()\n",
    "    def getData(self):\n",
    "        url = 'https://htem-api.nrel.gov/api/sample_library/'+str(self.id)\n",
    "        response = urllib.request.urlopen(url)\n",
    "        data = json.loads(response.read())\n",
    "        positions = data['sample_ids']\n",
    "        for p in positions:\n",
    "            self.sample.append(PropertyELESamp(p))\n",
    "        index=[s.id for s in self.sample]\n",
    "        self.ele=pd.concat([s.ele for s in self.sample],axis=0)\n",
    "        self.ele.index=index"
   ]
  },
  {
   "cell_type": "code",
   "execution_count": 18,
   "metadata": {},
   "outputs": [],
   "source": [
    "elelab=PropertyELELib(6651)"
   ]
  },
  {
   "cell_type": "code",
   "execution_count": 19,
   "metadata": {},
   "outputs": [],
   "source": [
    "ele=elelab.ele"
   ]
  },
  {
   "cell_type": "code",
   "execution_count": 20,
   "metadata": {},
   "outputs": [],
   "source": [
    "ele['z']=ele['sheet-resistance']/ele.resistivity"
   ]
  },
  {
   "cell_type": "code",
   "execution_count": 21,
   "metadata": {},
   "outputs": [],
   "source": [
    "ele=ele[['x','y','z','resistivity']]"
   ]
  },
  {
   "cell_type": "code",
   "execution_count": 22,
   "metadata": {},
   "outputs": [
    {
     "name": "stderr",
     "output_type": "stream",
     "text": [
      "E:\\Anaconda\\lib\\site-packages\\ipykernel_launcher.py:1: SettingWithCopyWarning: \n",
      "A value is trying to be set on a copy of a slice from a DataFrame.\n",
      "Try using .loc[row_indexer,col_indexer] = value instead\n",
      "\n",
      "See the caveats in the documentation: http://pandas.pydata.org/pandas-docs/stable/indexing.html#indexing-view-versus-copy\n",
      "  \"\"\"Entry point for launching an IPython kernel.\n"
     ]
    }
   ],
   "source": [
    "ele['x']=ele['x'].map(float)"
   ]
  },
  {
   "cell_type": "code",
   "execution_count": 23,
   "metadata": {},
   "outputs": [
    {
     "name": "stderr",
     "output_type": "stream",
     "text": [
      "E:\\Anaconda\\lib\\site-packages\\ipykernel_launcher.py:1: SettingWithCopyWarning: \n",
      "A value is trying to be set on a copy of a slice from a DataFrame.\n",
      "Try using .loc[row_indexer,col_indexer] = value instead\n",
      "\n",
      "See the caveats in the documentation: http://pandas.pydata.org/pandas-docs/stable/indexing.html#indexing-view-versus-copy\n",
      "  \"\"\"Entry point for launching an IPython kernel.\n"
     ]
    }
   ],
   "source": [
    "ele['y']=ele['y'].map(float)"
   ]
  },
  {
   "cell_type": "code",
   "execution_count": 25,
   "metadata": {},
   "outputs": [
    {
     "name": "stderr",
     "output_type": "stream",
     "text": [
      "E:\\Anaconda\\lib\\site-packages\\ipykernel_launcher.py:1: SettingWithCopyWarning: \n",
      "A value is trying to be set on a copy of a slice from a DataFrame.\n",
      "Try using .loc[row_indexer,col_indexer] = value instead\n",
      "\n",
      "See the caveats in the documentation: http://pandas.pydata.org/pandas-docs/stable/indexing.html#indexing-view-versus-copy\n",
      "  \"\"\"Entry point for launching an IPython kernel.\n"
     ]
    }
   ],
   "source": [
    "ele['id']=ele.index"
   ]
  },
  {
   "cell_type": "code",
   "execution_count": 27,
   "metadata": {},
   "outputs": [],
   "source": [
    "ele.to_json('lib6651.json',orient=\"values\")"
   ]
  },
  {
   "cell_type": "code",
   "execution_count": 8,
   "metadata": {},
   "outputs": [],
   "source": [
    "ss=PropertyLib(6651)"
   ]
  },
  {
   "cell_type": "markdown",
   "metadata": {},
   "source": [
    "下面是因为原数据中存在着波长不对应的脏数据，我们只取相同波长取得。"
   ]
  },
  {
   "cell_type": "code",
   "execution_count": 17,
   "metadata": {},
   "outputs": [],
   "source": [
    "for s in ss.tr.index:\n",
    "    singlesample=PropertySamp(s)\n",
    "    tmp=singlesample.tr.stack().unstack(0)\n",
    "    tmp['in']=[k-int(k) for k in tmp.index ]\n",
    "    cleantr=tmp[tmp['in']==0.0]\n",
    "    cleanrf=singlesample.rf.stack().unstack(0)\n",
    "    cleandata=singlesample.tr.stack().unstack(0)\n",
    "    cleandata=cleanrf.merge(cleandata,left_index=True,right_index=True)\n",
    "    cleandata['absorbility']=1-cleandata.reflectance-cleandata.transmittance\n",
    "    cleandata['wavelength']=cleandata.index\n",
    "    cleandata.stack().unstack(0).to_json(str(s)+'.json',orient='values')"
   ]
  },
  {
   "cell_type": "code",
   "execution_count": null,
   "metadata": {},
   "outputs": [],
   "source": []
  }
 ],
 "metadata": {
  "kernelspec": {
   "display_name": "Python 3",
   "language": "python",
   "name": "python3"
  },
  "language_info": {
   "codemirror_mode": {
    "name": "ipython",
    "version": 3
   },
   "file_extension": ".py",
   "mimetype": "text/x-python",
   "name": "python",
   "nbconvert_exporter": "python",
   "pygments_lexer": "ipython3",
   "version": "3.7.3"
  }
 },
 "nbformat": 4,
 "nbformat_minor": 2
}
